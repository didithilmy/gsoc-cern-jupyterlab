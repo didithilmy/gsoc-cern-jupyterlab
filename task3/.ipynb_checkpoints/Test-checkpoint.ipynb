{
 "cells": [
  {
   "cell_type": "code",
   "execution_count": 4,
   "metadata": {},
   "outputs": [
    {
     "data": {
      "text/plain": [
       "{'request': {'type': 'City',\n",
       "  'query': 'Bandung, Indonesia',\n",
       "  'language': 'en',\n",
       "  'unit': 'm'},\n",
       " 'location': {'name': 'Bandung',\n",
       "  'country': 'Indonesia',\n",
       "  'region': 'West Java',\n",
       "  'lat': '-6.326',\n",
       "  'lon': '106.491',\n",
       "  'timezone_id': 'Asia/Jakarta',\n",
       "  'localtime': '2020-03-17 14:47',\n",
       "  'localtime_epoch': 1584456420,\n",
       "  'utc_offset': '7.0'},\n",
       " 'current': {'observation_time': '07:47 AM',\n",
       "  'temperature': 31,\n",
       "  'weather_code': 116,\n",
       "  'weather_icons': ['https://assets.weatherstack.com/images/wsymbols01_png_64/wsymbol_0002_sunny_intervals.png'],\n",
       "  'weather_descriptions': ['Partly cloudy'],\n",
       "  'wind_speed': 9,\n",
       "  'wind_degree': 353,\n",
       "  'wind_dir': 'N',\n",
       "  'pressure': 1012,\n",
       "  'precip': 0.3,\n",
       "  'humidity': 61,\n",
       "  'cloudcover': 66,\n",
       "  'feelslike': 36,\n",
       "  'uv_index': 11,\n",
       "  'visibility': 9,\n",
       "  'is_day': 'yes'}}"
      ]
     },
     "execution_count": 4,
     "metadata": {},
     "output_type": "execute_result"
    }
   ],
   "source": [
    "weather_data"
   ]
  },
  {
   "cell_type": "code",
   "execution_count": 6,
   "metadata": {},
   "outputs": [
    {
     "name": "stdout",
     "output_type": "stream",
     "text": [
      "a\n"
     ]
    }
   ],
   "source": [
    "print('a')"
   ]
  },
  {
   "cell_type": "code",
   "execution_count": null,
   "metadata": {},
   "outputs": [],
   "source": []
  }
 ],
 "metadata": {
  "kernelspec": {
   "display_name": "Python 3",
   "language": "python",
   "name": "python3"
  },
  "language_info": {
   "codemirror_mode": {
    "name": "ipython",
    "version": 3
   },
   "file_extension": ".py",
   "mimetype": "text/x-python",
   "name": "python",
   "nbconvert_exporter": "python",
   "pygments_lexer": "ipython3",
   "version": "3.8.2"
  }
 },
 "nbformat": 4,
 "nbformat_minor": 4
}
