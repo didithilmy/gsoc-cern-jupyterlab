{
 "cells": [
  {
   "cell_type": "code",
   "execution_count": 1,
   "metadata": {},
   "outputs": [],
   "source": [
    "import string\n",
    "import random\n",
    "def generate_random_filename(N=5):\n",
    "    return ''.join(random.choices(string.ascii_uppercase + string.digits, k=N))\n",
    "\n",
    "def generate_random_bytes(size):\n",
    "    return bytes(random.getrandbits(8) for _ in range(size))"
   ]
  },
  {
   "cell_type": "code",
   "execution_count": 2,
   "metadata": {},
   "outputs": [],
   "source": [
    "# Configurable parameters\n",
    "\n",
    "byte_size = 1024\n",
    "n_file = 10\n",
    "file_names = [generate_random_filename(5) for _ in range(n_file)]"
   ]
  },
  {
   "cell_type": "code",
   "execution_count": 3,
   "metadata": {},
   "outputs": [],
   "source": [
    "# Write files\n",
    "\n",
    "for filename in file_names:\n",
    "    f = open(filename, 'wb')\n",
    "    content = generate_random_bytes(byte_size)\n",
    "    f.write(content)\n",
    "    f.close()"
   ]
  },
  {
   "cell_type": "code",
   "execution_count": 4,
   "metadata": {},
   "outputs": [
    {
     "name": "stdout",
     "output_type": "stream",
     "text": [
      "IHHEY 45e0e45578f17f6814b672de38d9b798\n",
      "JJAGW 2482890eee8b2634aa66a506ee6c8d74\n",
      "UGVWD dddaf4524c7b862a3fe85c8432d99a10\n",
      "EX2GA 5c3dcddfd9cbd13b8ae5aca280f85bff\n",
      "L8SS7 60b0865f6d225ff5f75173e97c821ced\n",
      "69ZC4 80d55696d83535469579b63547fba968\n",
      "TLPOL 70be44aebc712e91197444e0cc9d0bb7\n",
      "ZGEFL d6ffa54cf405fec6481110089e2e6bfb\n",
      "42D1J 085351fedbdd004c77341a9111cc9d52\n",
      "NRJWZ 26272c0a76d50185aefc880e5affcaf1\n"
     ]
    }
   ],
   "source": [
    "# Read files and print hex\n",
    "\n",
    "import hashlib\n",
    "for filename in file_names:\n",
    "    f = open(filename, 'rb')\n",
    "    hash_md5 = hashlib.md5(f.read())\n",
    "    print(filename, hash_md5.hexdigest())\n",
    "    f.close()"
   ]
  },
  {
   "cell_type": "code",
   "execution_count": null,
   "metadata": {},
   "outputs": [],
   "source": []
  }
 ],
 "metadata": {
  "kernelspec": {
   "display_name": "Python 3",
   "language": "python",
   "name": "python3"
  },
  "language_info": {
   "codemirror_mode": {
    "name": "ipython",
    "version": 3
   },
   "file_extension": ".py",
   "mimetype": "text/x-python",
   "name": "python",
   "nbconvert_exporter": "python",
   "pygments_lexer": "ipython3",
   "version": "3.7.6"
  }
 },
 "nbformat": 4,
 "nbformat_minor": 4
}
